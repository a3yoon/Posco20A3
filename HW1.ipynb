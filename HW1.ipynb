{
 "cells": [
  {
   "cell_type": "code",
   "execution_count": 1,
   "id": "057f02e9",
   "metadata": {},
   "outputs": [
    {
     "name": "stdout",
     "output_type": "stream",
     "text": [
      "6 14\n",
      "6 14\n"
     ]
    }
   ],
   "source": [
    "# 실습 1\n",
    "def my_len(x):\n",
    "    length=0\n",
    "    for i in x:\n",
    "        length = length + 1\n",
    "    return length\n",
    "\n",
    "a=[1,2,3,4,5,6]\n",
    "b='life is short.'\n",
    "print(len(a), len(b))\n",
    "print(my_len(a), my_len(b))"
   ]
  },
  {
   "cell_type": "code",
   "execution_count": 2,
   "id": "542750e6",
   "metadata": {},
   "outputs": [
    {
     "data": {
      "text/plain": [
       "120"
      ]
     },
     "execution_count": 2,
     "metadata": {},
     "output_type": "execute_result"
    }
   ],
   "source": [
    "# 실습 2\n",
    "def mult(a, b):\n",
    "    t=1\n",
    "    for i in range(a,b+1):\n",
    "        t = t*i\n",
    "    return t\n",
    "\n",
    "mult(4,6)"
   ]
  },
  {
   "cell_type": "code",
   "execution_count": 3,
   "id": "c681273c",
   "metadata": {},
   "outputs": [
    {
     "name": "stdout",
     "output_type": "stream",
     "text": [
      "7 -9\n",
      "10 -6\n"
     ]
    }
   ],
   "source": [
    "# 실습 3\n",
    "def sum_pos_neg(l): # 아이 아니고 엘\n",
    "    p=0\n",
    "    n=0\n",
    "    for i in l:\n",
    "        if i >= 0:\n",
    "            p = p+i\n",
    "        elif i < 0:\n",
    "            n = n+i\n",
    "    return(p,n)\n",
    "\n",
    "possum, negsum = sum_pos_neg([3,4,-6,-3])\n",
    "print(possum,negsum)\n",
    "l = [1,-1,2,-2,3,-3,0,0,4]\n",
    "possum2, negsum2 = sum_pos_neg(l)\n",
    "print(possum2, negsum2)"
   ]
  },
  {
   "cell_type": "code",
   "execution_count": 4,
   "id": "73eee5ce",
   "metadata": {},
   "outputs": [
    {
     "data": {
      "text/plain": [
       "[4.140000000000001, 2.72]"
      ]
     },
     "execution_count": 4,
     "metadata": {},
     "output_type": "execute_result"
    }
   ],
   "source": [
    "# 실습 4\n",
    "def vector_sum(vector, *vectors):\n",
    "    x = vector\n",
    "    for [i,j] in vectors:\n",
    "        vector[0]= vector[0]+i\n",
    "        vector[1]= vector[1]+j\n",
    "    return[vector[0],vector[1]]\n",
    "\n",
    "v1=[0,1]\n",
    "v2=[0.5,0.5]\n",
    "v3=[1,0]\n",
    "v4=[6,4]\n",
    "v5=[3.14,2.72]\n",
    "\n",
    "vector_sum(v1,v2,v3)\n",
    "vector_sum(v1,v2,v3,v4)\n",
    "vector_sum(v3,v5)"
   ]
  },
  {
   "cell_type": "code",
   "execution_count": 5,
   "id": "71fc11cd",
   "metadata": {},
   "outputs": [
    {
     "data": {
      "text/plain": [
       "[1, 2, 3, 4, 5, 6, 9, 9]"
      ]
     },
     "execution_count": 5,
     "metadata": {},
     "output_type": "execute_result"
    }
   ],
   "source": [
    "def merge_list(x=[0], y=[0]):\n",
    "    a=sorted(x+y)\n",
    "    return a\n",
    "\n",
    "i=[3,5,9,1,2]\n",
    "merge_list(i,[6,9,4])"
   ]
  },
  {
   "cell_type": "code",
   "execution_count": 6,
   "id": "cd0c0b0e",
   "metadata": {},
   "outputs": [
    {
     "name": "stdout",
     "output_type": "stream",
     "text": [
      "** 로또 번호 자동 기입을 시작합니다 **\n",
      "1번째 자동 기입 ==> 1 4 12 25 36 42\n",
      "2번째 자동 기입 ==> 4 5 12 28 35 38\n",
      "3번째 자동 기입 ==> 12 14 26 35 42 43\n",
      "4번째 자동 기입 ==> 11 17 19 27 34 43\n",
      "5번째 자동 기입 ==> 2 12 18 21 33 44\n"
     ]
    }
   ],
   "source": [
    "# 실습 6\n",
    "import random\n",
    "a=[]\n",
    "for i in range(1,46):\n",
    "    a.append(i)\n",
    "\n",
    "print('** 로또 번호 자동 기입을 시작합니다 **', end='\\n')\n",
    "for i in range(1,6):\n",
    "    print('%d번째 자동 기입 ==>'%i, *sorted(random.sample(a,6)))"
   ]
  },
  {
   "cell_type": "code",
   "execution_count": 7,
   "id": "6d5f8f48",
   "metadata": {},
   "outputs": [
    {
     "name": "stdout",
     "output_type": "stream",
     "text": [
      "1\n",
      "9\n",
      "[2, 3, 5]\n"
     ]
    }
   ],
   "source": [
    "# 실습 7\n",
    "def get_min_max(l):\n",
    "    min_val=min(l)\n",
    "    max_val=max(l)\n",
    "    l.sort()\n",
    "    l.remove(l[0])\n",
    "    l.remove(l[len(l)-1])\n",
    "    return (min_val, max_val)\n",
    "\n",
    "l=[3,5,9,1,2]\n",
    "min_val, max_val = get_min_max(l)\n",
    "\n",
    "print(min_val)\n",
    "print(max_val)\n",
    "print(l)"
   ]
  },
  {
   "cell_type": "code",
   "execution_count": 8,
   "id": "bc3c1fa3",
   "metadata": {},
   "outputs": [
    {
     "name": "stdout",
     "output_type": "stream",
     "text": [
      "{'a': 3, 'b': 3, 'd': 7, 'e': 9, 'c': 4}\n"
     ]
    }
   ],
   "source": [
    "# 실습 8\n",
    "def comb_dict(d1,d2):\n",
    "    d3={}\n",
    "    for k in d1:\n",
    "        d3[k]=d1[k]\n",
    "    for k in d2:\n",
    "        if k in d3:\n",
    "            d3[k]= d3[k]+d2[k]\n",
    "        else:\n",
    "            d3[k] = d2[k]\n",
    "    return d3\n",
    "\n",
    "d1 = {'a': 1, 'b': 3, 'd': 7, 'e': 8}\n",
    "d2 = {'a': 2, 'c': 4, 'e': 1}\n",
    "d3 = comb_dict(d1, d2)\n",
    "print(d3)"
   ]
  },
  {
   "cell_type": "code",
   "execution_count": 9,
   "id": "1ffaf087",
   "metadata": {},
   "outputs": [
    {
     "name": "stdout",
     "output_type": "stream",
     "text": [
      "4\n",
      "300\n"
     ]
    }
   ],
   "source": [
    "# 실습 9\n",
    "def diff(a,b,*nums):\n",
    "    maxnum = max(a,b,*nums)\n",
    "    minnum = min(a,b,*nums)\n",
    "    return maxnum-minnum\n",
    "\n",
    "print(diff(1,2,3,4,5))\n",
    "print(diff(-100, 200))"
   ]
  }
 ],
 "metadata": {
  "kernelspec": {
   "display_name": "Python 3 (ipykernel)",
   "language": "python",
   "name": "python3"
  },
  "language_info": {
   "codemirror_mode": {
    "name": "ipython",
    "version": 3
   },
   "file_extension": ".py",
   "mimetype": "text/x-python",
   "name": "python",
   "nbconvert_exporter": "python",
   "pygments_lexer": "ipython3",
   "version": "3.9.13"
  }
 },
 "nbformat": 4,
 "nbformat_minor": 5
}
